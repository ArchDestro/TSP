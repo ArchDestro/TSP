{
 "cells": [
  {
   "cell_type": "code",
   "execution_count": 1,
   "metadata": {},
   "outputs": [],
   "source": [
    "import numpy as np\n",
    "import random as rnd\n",
    "import string, math\n",
    "from tqdm.auto import tqdm\n",
    "\n",
    "def distancesFromCoords():\n",
    "    f = open('lin318.tsp')\n",
    "    data = [line.replace(\"\\n\",\"\").split(\" \")[1:] for line in f.readlines()[6:324]]\n",
    "    coords =  list(map(lambda x: [float(x[0]),float(x[1])], data))\n",
    "    distances = []\n",
    "    for i in range(len(coords)):\n",
    "        row = []\n",
    "        for j in range(len(coords)):\n",
    "            row.append(math.sqrt((coords[i][0]-coords[j][0])**2 + (coords[i][1]-coords[j][1])**2))\n",
    "        distances.append(row)\n",
    "    return distances  \n",
    "    \n"
   ]
  },
  {
   "cell_type": "code",
   "execution_count": 2,
   "metadata": {},
   "outputs": [],
   "source": [
    "\n",
    "\n",
    "def sumDistancias(pos, matriz):\n",
    "    sumDist = 0\n",
    "    for i in range(len(pos)-1):\n",
    "        sumDist += matriz[pos[i]][pos[i+1]]\n",
    "    return sumDist\n",
    "def caminosAleatorios(caminos):\n",
    "    copy=caminos[1:]\n",
    "    rnd.shuffle(copy)\n",
    "    caminos[1:]=copy\n",
    "    return caminos\n",
    "\n"
   ]
  },
  {
   "cell_type": "code",
   "execution_count": 3,
   "metadata": {},
   "outputs": [
    {
     "name": "stdout",
     "output_type": "stream",
     "text": [
      "[0, 132, 262, 77, 21, 76, 145, 89, 298, 234, 203, 290, 172, 190, 313, 143, 236, 138, 301, 270, 85, 114, 102, 39, 159, 121, 277, 291, 10, 250, 231, 122, 11, 246, 94, 161, 120, 193, 153, 296, 84, 61, 257, 19, 57, 249, 197, 18, 142, 194, 127, 272, 63, 253, 17, 182, 5, 38, 144, 117, 49, 297, 316, 147, 201, 181, 56, 202, 188, 42, 216, 107, 95, 200, 13, 154, 141, 12, 175, 299, 265, 258, 149, 46, 226, 271, 176, 157, 163, 73, 79, 283, 108, 264, 191, 128, 170, 134, 53, 148, 307, 41, 260, 101, 266, 292, 113, 160, 126, 189, 130, 302, 139, 165, 210, 225, 9, 90, 282, 281, 156, 184, 209, 1, 135, 268, 33, 96, 31, 36, 286, 74, 306, 256, 131, 35, 48, 168, 243, 146, 125, 245, 47, 280, 217, 92, 317, 83, 261, 206, 196, 68, 50, 22, 173, 82, 15, 37, 213, 87, 65, 69, 208, 54, 214, 104, 34, 240, 166, 227, 14, 219, 204, 71, 123, 62, 285, 310, 86, 179, 167, 224, 136, 195, 24, 103, 25, 237, 255, 150, 140, 93, 58, 274, 70, 229, 199, 218, 43, 4, 220, 124, 28, 294, 239, 3, 164, 275, 177, 186, 207, 151, 198, 98, 32, 137, 67, 72, 174, 112, 88, 99, 276, 300, 29, 273, 288, 27, 162, 119, 52, 26, 171, 212, 228, 211, 158, 180, 269, 304, 8, 205, 91, 183, 221, 235, 6, 55, 315, 295, 45, 105, 169, 263, 223, 309, 109, 20, 233, 252, 106, 78, 60, 44, 251, 97, 303, 248, 155, 232, 110, 81, 115, 116, 293, 244, 242, 254, 7, 30, 75, 66, 311, 23, 314, 129, 64, 40, 259, 2, 267, 222, 241, 187, 100, 278, 80, 16, 247, 289, 51, 287, 152, 111, 279, 312, 230, 215, 59, 118, 133, 305, 238, 308, 178, 185, 284, 192, 0]\n",
      "Digite el maximo de iteraciones: 11\n"
     ]
    },
    {
     "data": {
      "application/vnd.jupyter.widget-view+json": {
       "model_id": "9ecbe44d7f6f42db8b3174422dd1f3ac",
       "version_major": 2,
       "version_minor": 0
      },
      "text/plain": [
       "HBox(children=(FloatProgress(value=0.0, max=1.0), HTML(value='')))"
      ]
     },
     "metadata": {},
     "output_type": "display_data"
    },
    {
     "name": "stdout",
     "output_type": "stream",
     "text": [
      "\n",
      "la ruta sera:  [0, 169, 199, 6, 101, 0, 232, 207, 128, 90, 263, 186, 10, 152, 214, 156, 46, 206, 196, 209, 294, 180, 315, 65, 151, 269, 71, 68, 133, 122, 124, 148, 254, 105, 78, 258, 142, 119, 91, 94, 59, 36, 173, 272, 82, 81, 170, 188, 126, 64, 12, 120, 182, 31, 66, 11, 253, 67, 158, 239, 283, 89, 275, 296, 76, 143, 223, 252, 291, 250, 23, 274, 247, 110, 106, 168, 83, 285, 174, 280, 161, 15, 270, 284, 17, 109, 302, 34, 75, 51, 184, 118, 226, 306, 117, 111, 295, 233, 287, 72, 179, 18, 114, 28, 185, 88, 62, 218, 134, 249, 95, 163, 162, 194, 282, 311, 293, 208, 210, 103, 267, 87, 178, 1, 19, 313, 248, 27, 37, 222, 187, 3, 132, 262, 288, 197, 201, 14, 7, 112, 221, 84, 85, 135, 312, 166, 127, 60, 104, 53, 310, 236, 137, 42, 304, 108, 136, 155, 44, 97, 298, 229, 121, 260, 307, 217, 235, 231, 303, 203, 257, 69, 61, 52, 234, 276, 116, 212, 300, 268, 190, 48, 200, 271, 43, 150, 242, 177, 157, 113, 30, 22, 316, 245, 292, 246, 92, 98, 228, 220, 240, 238, 175, 99, 49, 211, 286, 54, 79, 153, 147, 265, 125, 130, 8, 55, 195, 264, 259, 308, 289, 20, 77, 63, 70, 172, 290, 297, 278, 266, 47, 241, 159, 244, 9, 4, 25, 317, 165, 35, 40, 160, 224, 251, 261, 154, 176, 96, 41, 145, 140, 45, 277, 243, 181, 167, 16, 123, 129, 38, 100, 227, 309, 202, 21, 225, 237, 32, 144, 139, 219, 273, 281, 192, 93, 107, 13, 171, 149, 198, 193, 86, 305, 57, 213, 299, 314, 204, 73, 131, 141, 216, 80, 301, 183, 115, 215, 56, 138, 24, 74, 102, 29, 58, 2, 50, 279, 189, 205, 26, 191, 255, 39, 256, 230, 146, 33, 5, 164, 0]\n",
      "distancia final: 537246.8093881477\n"
     ]
    }
   ],
   "source": [
    "dist= distancesFromCoords()\n",
    "caminos= []\n",
    "caminos= list(range(0,len(dist)))\n",
    "caminoAleat=caminosAleatorios(caminos[:])\n",
    "caminoAleat.append(caminoAleat[0])\n",
    "print(caminoAleat)\n",
    "actDist = sumDistancias(caminoAleat, dist)\n",
    "newDist=0\n",
    "maxIte=int(input(\"Digite el maximo de iteraciones: \"))\n",
    "i=0\n",
    "pbar = tqdm(total = i+1)\n",
    "while True:\n",
    "    i+=1\n",
    "    newCamino=caminosAleatorios(caminoAleat[:])\n",
    "    newDist= sumDistancias(newCamino, dist)\n",
    "    \n",
    "    if (newDist<actDist):\n",
    "        caminoAleat=newCamino\n",
    "        actDist=newDist\n",
    "        \n",
    "    else: \n",
    "        i-=1\n",
    "    \n",
    "    pbar.update(1)\n",
    "    if(i==maxIte):\n",
    "        break\n",
    "pbar.close()\n",
    "caminoAleat.append(caminoAleat[0])\n",
    "actDist= sumDistancias(caminoAleat, dist)\n",
    "print(\"la ruta sera: \",caminoAleat)\n",
    "print(\"distancia final:\", actDist)    "
   ]
  },
  {
   "cell_type": "code",
   "execution_count": null,
   "metadata": {},
   "outputs": [],
   "source": []
  },
  {
   "cell_type": "code",
   "execution_count": null,
   "metadata": {},
   "outputs": [],
   "source": []
  },
  {
   "cell_type": "markdown",
   "metadata": {},
   "source": [
    "# "
   ]
  }
 ],
 "metadata": {
  "kernelspec": {
   "display_name": "Python 3",
   "language": "python",
   "name": "python3"
  },
  "language_info": {
   "codemirror_mode": {
    "name": "ipython",
    "version": 3
   },
   "file_extension": ".py",
   "mimetype": "text/x-python",
   "name": "python",
   "nbconvert_exporter": "python",
   "pygments_lexer": "ipython3",
   "version": "3.8.3"
  }
 },
 "nbformat": 4,
 "nbformat_minor": 4
}
