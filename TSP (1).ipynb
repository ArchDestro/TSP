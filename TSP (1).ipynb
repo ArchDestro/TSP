{
 "cells": [
  {
   "cell_type": "code",
   "execution_count": 1,
   "metadata": {},
   "outputs": [],
   "source": [
    "import numpy as np\n",
    "import random as rnd\n",
    "import string, math\n",
    "from tqdm.auto import tqdm\n",
    "\n",
    "def distancesFromCoords():\n",
    "    f = open('lin318.tsp')\n",
    "    data = [line.replace(\"\\n\",\"\").split(\" \")[1:] for line in f.readlines()[6:324]]\n",
    "    coords =  list(map(lambda x: [float(x[0]),float(x[1])], data))\n",
    "    distances = []\n",
    "    for i in range(len(coords)):\n",
    "        row = []\n",
    "        for j in range(len(coords)):\n",
    "            row.append(math.sqrt((coords[i][0]-coords[j][0])**2 + (coords[i][1]-coords[j][1])**2))\n",
    "        distances.append(row)\n",
    "    return distances  \n",
    "    \n"
   ]
  },
  {
   "cell_type": "code",
   "execution_count": 2,
   "metadata": {},
   "outputs": [],
   "source": [
    "\n",
    "\n",
    "def sumDistancias(pos, matriz): #Suma de distancias entre caminos\n",
    "    sumDist = 0\n",
    "    for i in range(len(pos)-1):\n",
    "        sumDist += matriz[pos[i]][pos[i+1]]\n",
    "    return sumDist\n",
    "def caminosAleatorios(caminos): #Generador de caminos aleatorios (Sin tocar la posición inicial y final)\n",
    "    copy=caminos[1:(len(caminos)-2)]\n",
    "    rnd.shuffle(copy)\n",
    "    caminos[1:(len(caminos)-2)]=copy\n",
    "    return caminos\n",
    "\n"
   ]
  },
  {
   "cell_type": "markdown",
   "metadata": {},
   "source": [
    "# Hill Climbing Metaheuristic\n"
   ]
  },
  {
   "cell_type": "code",
   "execution_count": 3,
   "metadata": {},
   "outputs": [
    {
     "name": "stdout",
     "output_type": "stream",
     "text": [
      "Hill Climbing Metaheuristic\n",
      "Digite el maximo de iteraciones: 100000\n"
     ]
    },
    {
     "data": {
      "application/vnd.jupyter.widget-view+json": {
       "model_id": "cae775abf2944019ae45be28c530ef18",
       "version_major": 2,
       "version_minor": 0
      },
      "text/plain": [
       "HBox(children=(FloatProgress(value=0.0, max=1.0), HTML(value='')))"
      ]
     },
     "metadata": {},
     "output_type": "display_data"
    },
    {
     "name": "stdout",
     "output_type": "stream",
     "text": [
      "\n",
      "la ruta sera:  [0, 17, 304, 302, 206, 213, 129, 144, 25, 115, 41, 57, 123, 125, 190, 136, 132, 33, 69, 54, 220, 229, 90, 260, 152, 310, 192, 86, 22, 133, 15, 89, 65, 291, 111, 214, 269, 169, 176, 146, 34, 60, 255, 94, 110, 228, 189, 104, 5, 97, 215, 258, 250, 28, 118, 50, 91, 148, 161, 78, 217, 277, 99, 76, 275, 178, 300, 165, 167, 44, 19, 93, 141, 268, 73, 244, 150, 160, 212, 211, 108, 259, 156, 149, 234, 219, 286, 305, 201, 83, 116, 282, 280, 180, 292, 23, 127, 114, 224, 45, 316, 121, 51, 283, 135, 262, 227, 266, 271, 278, 221, 162, 218, 153, 242, 287, 74, 106, 85, 209, 158, 145, 168, 55, 191, 72, 225, 202, 276, 11, 38, 36, 70, 42, 183, 182, 265, 204, 175, 9, 39, 112, 32, 170, 80, 289, 68, 107, 40, 81, 96, 173, 293, 185, 43, 159, 309, 285, 12, 79, 10, 31, 134, 14, 103, 188, 117, 3, 46, 177, 174, 138, 238, 98, 184, 84, 222, 253, 270, 263, 61, 56, 193, 284, 95, 8, 52, 311, 288, 243, 137, 151, 179, 257, 239, 241, 130, 312, 281, 131, 30, 120, 59, 313, 101, 64, 139, 128, 71, 157, 267, 26, 47, 236, 29, 37, 82, 251, 88, 166, 171, 77, 297, 181, 16, 226, 48, 124, 143, 198, 113, 20, 13, 314, 246, 154, 208, 196, 294, 126, 119, 142, 140, 303, 164, 306, 223, 210, 163, 249, 301, 199, 245, 231, 147, 105, 24, 75, 186, 274, 237, 67, 87, 200, 58, 197, 279, 27, 62, 252, 195, 122, 155, 315, 35, 248, 2, 100, 205, 6, 261, 290, 247, 216, 232, 235, 21, 53, 230, 264, 92, 295, 187, 298, 299, 273, 203, 272, 296, 254, 308, 233, 109, 1, 4, 49, 63, 194, 256, 18, 102, 172, 7, 307, 240, 207, 66, 317, 0]\n",
      "distancia final: 530396.5337828503\n"
     ]
    }
   ],
   "source": [
    "print(\"Hill Climbing Metaheuristic\")\n",
    "dist = distancesFromCoords() #Distancias provenientes de la matriz\n",
    "\n",
    "caminos = [] #lista de caminos\n",
    "caminos = list(range(0,len(dist))) #Caminos predeterminados 0-317\n",
    "caminoAleat = caminosAleatorios(caminos[:]) #Primera ruta aleatoria\n",
    "caminoAleat.append(caminoAleat[0])# posición final igual a la primera\n",
    "actDist = sumDistancias(caminoAleat, dist) #suma de distancias\n",
    "newDist = 0\n",
    "\n",
    "maxIte = int(input(\"Digite el maximo de iteraciones: \"))\n",
    "\n",
    "i = 0\n",
    "pbar = tqdm(total = i+1) #Barra de estado pal washeo\n",
    "while True:\n",
    "    \n",
    "    i+=1    \n",
    "    newCamino = caminosAleatorios(caminoAleat[:]) \n",
    "    newDist = sumDistancias(newCamino, dist)\n",
    "    \n",
    "    if (newDist<actDist): \n",
    "        \n",
    "        caminoAleat = newCamino\n",
    "        actDist = newDist    \n",
    "        \n",
    "    pbar.update(1)\n",
    "    \n",
    "    if(i == maxIte):\n",
    "        \n",
    "        break\n",
    "        \n",
    "pbar.close()\n",
    "\n",
    "print(\"la ruta sera: \",caminoAleat)\n",
    "print(\"distancia final:\", actDist)    "
   ]
  },
  {
   "cell_type": "markdown",
   "metadata": {},
   "source": [
    "# Simulated Annealing"
   ]
  },
  {
   "cell_type": "code",
   "execution_count": 4,
   "metadata": {},
   "outputs": [],
   "source": [
    "def boltzmann(actDist, newDist, tempIni):\n",
    "    prob= math.exp(-((newDist-actDist)/tempIni))\n",
    "    return prob"
   ]
  },
  {
   "cell_type": "code",
   "execution_count": null,
   "metadata": {},
   "outputs": [
    {
     "name": "stdout",
     "output_type": "stream",
     "text": [
      "Simulated Annealing\n"
     ]
    },
    {
     "data": {
      "application/vnd.jupyter.widget-view+json": {
       "model_id": "98e40aa6df8c4fb181d94df6c37e1bbb",
       "version_major": 2,
       "version_minor": 0
      },
      "text/plain": [
       "HBox(children=(FloatProgress(value=0.0, max=1.0), HTML(value='')))"
      ]
     },
     "metadata": {},
     "output_type": "display_data"
    }
   ],
   "source": [
    "print(\"Simulated Annealing\")\n",
    "tempIni=100\n",
    "alpha= 0.99\n",
    "tempFin= 0.1\n",
    "caminos = [] #lista de caminos\n",
    "caminos = list(range(0,len(dist))) #Caminos predeterminados 0-317\n",
    "caminoAleat = caminosAleatorios(caminos[:]) #Primera ruta aleatoria\n",
    "caminoAleat.append(caminoAleat[0])# posición final igual a la primera\n",
    "actDist = sumDistancias(caminoAleat, dist) #suma de distancias\n",
    "newDist = 0\n",
    "i = 0\n",
    "pbar = tqdm(total = i+1) #Barra de estado pal washeo\n",
    "while True:\n",
    "    \n",
    "    i+=1    \n",
    "    newCamino = caminosAleatorios(caminoAleat[:]) \n",
    "    newDist = sumDistancias(newCamino, dist)\n",
    "    \n",
    "    if (newDist<actDist): \n",
    "        \n",
    "        caminoAleat = newCamino\n",
    "        actDist = newDist  \n",
    "        tempIni= alpha*tempIni\n",
    "        \n",
    "    else: \n",
    "        \n",
    "        n = rnd.uniform(0,1)\n",
    "        if(n<boltzmann(actDist, newDist, tempIni)):\n",
    "            actDIst=newDist\n",
    "            caminoAleat=newCamino\n",
    "            tempIni= alpha*tempIni\n",
    "        else:\n",
    "            if(tempIni<tempFin):\n",
    "                break\n",
    "    \n",
    "    pbar.update(1)\n",
    "pbar.close()   \n",
    "print(\"la ruta sera: \",caminoAleat)\n",
    "print(\"distancia final:\", actDist) "
   ]
  },
  {
   "cell_type": "code",
   "execution_count": null,
   "metadata": {},
   "outputs": [],
   "source": []
  }
 ],
 "metadata": {
  "kernelspec": {
   "display_name": "Python 3",
   "language": "python",
   "name": "python3"
  },
  "language_info": {
   "codemirror_mode": {
    "name": "ipython",
    "version": 3
   },
   "file_extension": ".py",
   "mimetype": "text/x-python",
   "name": "python",
   "nbconvert_exporter": "python",
   "pygments_lexer": "ipython3",
   "version": "3.8.3"
  }
 },
 "nbformat": 4,
 "nbformat_minor": 4
}
